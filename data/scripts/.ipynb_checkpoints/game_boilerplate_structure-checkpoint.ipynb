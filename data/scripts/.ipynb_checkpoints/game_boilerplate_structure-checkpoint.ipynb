{
 "cells": [
  {
   "cell_type": "code",
   "execution_count": 1,
   "id": "a1ad664b-cade-432d-ae07-9a2fcfdd3254",
   "metadata": {},
   "outputs": [],
   "source": [
    "import math\n",
    "import os\n",
    "import numpy as np\n",
    "import pandas as pd\n",
    "import time\n",
    "import datetime as dt"
   ]
  },
  {
   "cell_type": "code",
   "execution_count": 14,
   "id": "b54843ed-3fe1-455d-9b84-1d00b1f1c53f",
   "metadata": {},
   "outputs": [],
   "source": [
    "# Create relevant folders for individual games\n",
    "seasons = ['2024']\n",
    "for s in seasons:\n",
    "    cur_dir = '../' + s\n",
    "    for week in os.listdir(cur_dir):\n",
    "        if week == 'player-aggregates':\n",
    "            continue\n",
    "        cur_dir_week = cur_dir + '/' + week\n",
    "        for game in os.listdir(cur_dir_week):\n",
    "            cdwg = cur_dir_week + '/' + game\n",
    "            os.mkdir(cdwg + '/teamwise')\n",
    "            os.mkdir(cdwg + '/plays')\n",
    "            os.mkdir(cdwg + '/aggregated')\n",
    "            os.mkdir(cdwg + '/odds')"
   ]
  },
  {
   "cell_type": "code",
   "execution_count": null,
   "id": "8aa46310-0e7c-45a6-a186-aa63d5f5f36f",
   "metadata": {},
   "outputs": [],
   "source": []
  }
 ],
 "metadata": {
  "kernelspec": {
   "display_name": "Python 3 (ipykernel)",
   "language": "python",
   "name": "python3"
  },
  "language_info": {
   "codemirror_mode": {
    "name": "ipython",
    "version": 3
   },
   "file_extension": ".py",
   "mimetype": "text/x-python",
   "name": "python",
   "nbconvert_exporter": "python",
   "pygments_lexer": "ipython3",
   "version": "3.9.15"
  }
 },
 "nbformat": 4,
 "nbformat_minor": 5
}
