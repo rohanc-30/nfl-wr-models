{
 "cells": [
  {
   "cell_type": "code",
   "execution_count": 1,
   "id": "99b38050-eab5-4a34-aa39-dbc899387dd1",
   "metadata": {},
   "outputs": [],
   "source": [
    "import math\n",
    "import os\n",
    "import numpy as np\n",
    "import pandas as pd\n",
    "import time\n",
    "import datetime as dt"
   ]
  },
  {
   "cell_type": "code",
   "execution_count": 7,
   "id": "f9149961-7d30-4061-acd2-3e5acaf80f98",
   "metadata": {},
   "outputs": [],
   "source": [
    "# Create folders for each week in each season, and player subfolder stats\n",
    "seasons = ['2024', '2023', '2022', '2021']\n",
    "for s in seasons:\n",
    "    cur_dir = '../' + s\n",
    "    for i in range(1, 18):\n",
    "        os.mkdir(cur_dir + '/week-' + str(i))\n",
    "    cur_dir += '/player-aggregates'\n",
    "    os.mkdir(cur_dir)\n",
    "    os.mkdir(cur_dir + '/quarterbacks')\n",
    "    os.mkdir(cur_dir + '/receivers')\n",
    "    os.mkdir(cur_dir + '/dbs')"
   ]
  },
  {
   "cell_type": "code",
   "execution_count": null,
   "id": "4e49756a-52aa-4f37-852f-e97324d28c81",
   "metadata": {},
   "outputs": [],
   "source": []
  }
 ],
 "metadata": {
  "kernelspec": {
   "display_name": "Python 3 (ipykernel)",
   "language": "python",
   "name": "python3"
  },
  "language_info": {
   "codemirror_mode": {
    "name": "ipython",
    "version": 3
   },
   "file_extension": ".py",
   "mimetype": "text/x-python",
   "name": "python",
   "nbconvert_exporter": "python",
   "pygments_lexer": "ipython3",
   "version": "3.9.15"
  }
 },
 "nbformat": 4,
 "nbformat_minor": 5
}
